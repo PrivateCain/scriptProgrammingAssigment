{
 "cells": [
  {
   "cell_type": "code",
   "execution_count": 36,
   "metadata": {},
   "outputs": [
    {
     "name": "stdout",
     "output_type": "stream",
     "text": [
      "5\n",
      "7\n",
      "3 8\n",
      "8 1 0\n",
      "2 7 4 4\n",
      "4 5 2 6 5\n",
      "[[7], [3, 8], [8, 1, 0], [2, 7, 4, 4], [4, 5, 2, 6, 5]]\n",
      "[[0], [0, 0], [0, 0, 0], [0, 0, 0, 0], [0, 0, 0, 0, 0]]\n",
      "[[7], [10, 15], [18, 16, 15], [20, 25, 20, 19], [24, 30, 27, 26, 24]]\n",
      "수행 시간 : 0.001001초\n"
     ]
    }
   ],
   "source": [
    "import random\n",
    "import time\n",
    "\n",
    "H = int(input())\n",
    "\n",
    "int_triangle = []\n",
    "for i in range (H):\n",
    "    input_ = input()\n",
    "    line = list(map(int, input_.split(' ')))\n",
    "    assert len(line) == i + 1\n",
    "    int_triangle.append(line)\n",
    "    \n",
    "s=time.time()\n",
    "print(int_triangle)\n",
    "\n",
    "sumlist=[]\n",
    "for i in range(1,H+1):\n",
    "    line = []   \n",
    "    for j in range(i):\n",
    "        line.append(0)\n",
    "    sumlist.append(line)\n",
    "print(sumlist)\n",
    "\n",
    "sumleft=0\n",
    "sumright=0\n",
    "for i in range (0,H):\n",
    "    sumleft += int_triangle[i][0]\n",
    "    sumlist[i][0] = sumleft\n",
    "    \n",
    "for i in range (0,H):\n",
    "        sumright += int_triangle[i][i]\n",
    "        sumlist[i][i] = sumright\n",
    "    \n",
    "for j in range (1,H):\n",
    "    for i in range (1,j):\n",
    "        if sumlist[j-1][i-1] > sumlist[j-1][i]:\n",
    "            sumlist[j][i] = sumlist[j-1][i-1]+int_triangle[j][i]\n",
    "        else:\n",
    "            sumlist[j][i] = sumlist[j-1][i]+int_triangle[j][i]\n",
    "\n",
    "print(sumlist)\n",
    "e = time.time()\n",
    "print(\"수행 시간 : {0:3.6f}초\".format(e-s))"
   ]
  },
  {
   "cell_type": "code",
   "execution_count": null,
   "metadata": {},
   "outputs": [],
   "source": []
  }
 ],
 "metadata": {
  "kernelspec": {
   "display_name": "Python 3",
   "language": "python",
   "name": "python3"
  },
  "language_info": {
   "codemirror_mode": {
    "name": "ipython",
    "version": 3
   },
   "file_extension": ".py",
   "mimetype": "text/x-python",
   "name": "python",
   "nbconvert_exporter": "python",
   "pygments_lexer": "ipython3",
   "version": "3.8.3"
  }
 },
 "nbformat": 4,
 "nbformat_minor": 4
}
