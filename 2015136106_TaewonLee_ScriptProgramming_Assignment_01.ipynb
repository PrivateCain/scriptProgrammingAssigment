{
 "cells": [
  {
   "cell_type": "markdown",
   "metadata": {},
   "source": [
    "1. 1000~9999 까지의 네 자리 숫자 가운데에 10을 포함하는 숫자의 갯수는?"
   ]
  },
  {
   "cell_type": "code",
   "execution_count": 2,
   "metadata": {},
   "outputs": [
    {
     "name": "stdout",
     "output_type": "stream",
     "text": [
      "90\n"
     ]
    }
   ],
   "source": [
    "count = 0\n",
    "for i in range(1000,9999):\n",
    "    if str(i).find('10') == True:\n",
    "        count += 1\n",
    "\n",
    "print(count)"
   ]
  },
  {
   "cell_type": "code",
   "execution_count": 5,
   "metadata": {},
   "outputs": [
    {
     "name": "stdout",
     "output_type": "stream",
     "text": [
      "18\n"
     ]
    }
   ],
   "source": [
    "'''10 ~ 99999 까지(10과 99999도 계산에 포함)의 숫자 가운데에 20의 배수이며\n",
    "'080'을 포함하는 숫자의 갯수는?'''\n",
    "\n",
    "count = 0\n",
    "for i in range(10,99999):\n",
    "    if i%20 == 0:\n",
    "        if str(i).find('080')==True:\n",
    "            count += 1\n",
    "            \n",
    "print(count)"
   ]
  },
  {
   "cell_type": "code",
   "execution_count": 10,
   "metadata": {},
   "outputs": [
    {
     "name": "stdout",
     "output_type": "stream",
     "text": [
      "96721\n",
      "1000000\n",
      "p =  0.096721\n"
     ]
    }
   ],
   "source": [
    "\"\"\"\n",
    "d = {'Hospital':0, 'PostOffice':1, 'Phamacy':2, 'School':3, 'Home':4, 'Convenience':5,\n",
    "'DepartmentStore':6, 'BeautySalon':7, 'Lotteria':8}는 사전 자료형이며, 각 element의 \n",
    "key는 건물 이름을 의미하고 value는 아래 'map'에서 건물의 위치를 의미한다. '철수'는 \n",
    "매일 집에서 09:00에 나와서 정확히 30분마다 인접한 건물로 이동한다고 했을 때, 18:00에 \n",
    "'Hospital'에 있을 확률 p(0.0 <= p <= 1.0)는 얼마인가?\n",
    "'철수'는 30분마다 꼭 인접한 건물로 이동해야하며(같은 건물에 30분을 초과하여 체류할 수\n",
    "없음) 대각선에 위치한 건물로는 이동할 수 없다고 가정한다.\n",
    "\"\"\"\n",
    "import random\n",
    "\n",
    "d = {'Hospital':0, 'PostOffice':1, 'Phamacy':2, 'School':3, 'Home':4, 'Convenience':5,'DepartmentStore':6, 'BeautySalon':7, 'Lotteria':8}\n",
    "currentPosition = d['Hospital']\n",
    "\n",
    "tries = 0\n",
    "count = 0\n",
    "\n",
    "while tries < 1000000:\n",
    "    movement = random.randint(1,4)\n",
    "    if movement == 1:\n",
    "        #moveup\n",
    "        if currentPosition >= 3:\n",
    "            currentPosition += -3\n",
    "        else : \n",
    "            tries -= 1\n",
    "    elif movement == 2:\n",
    "        #movedown\n",
    "        if currentPosition <= 5:\n",
    "            currentPosition += 3\n",
    "        else : \n",
    "            tries -= 1\n",
    "    elif movement == 3:\n",
    "        #moveleft\n",
    "        if currentPosition != 0 or 3 or 6:\n",
    "            currentPosition += -1\n",
    "        else : \n",
    "            tries -= 1\n",
    "    elif movement == 4:\n",
    "        #moveright\n",
    "        if currentPosition != 2 or 5 or 8:\n",
    "            currentPosition += 1\n",
    "        else : \n",
    "            tries -= 1\n",
    "    else : \n",
    "        print('wrong')\n",
    "    \n",
    "    if currentPosition == d['Hospital']:\n",
    "        count += 1\n",
    "    tries += 1\n",
    "    \n",
    "print(count)\n",
    "print(tries)\n",
    "print('p = ',count/tries)"
   ]
  },
  {
   "cell_type": "code",
   "execution_count": null,
   "metadata": {},
   "outputs": [],
   "source": []
  }
 ],
 "metadata": {
  "kernelspec": {
   "display_name": "Python 3",
   "language": "python",
   "name": "python3"
  },
  "language_info": {
   "codemirror_mode": {
    "name": "ipython",
    "version": 3
   },
   "file_extension": ".py",
   "mimetype": "text/x-python",
   "name": "python",
   "nbconvert_exporter": "python",
   "pygments_lexer": "ipython3",
   "version": "3.8.3"
  }
 },
 "nbformat": 4,
 "nbformat_minor": 4
}
